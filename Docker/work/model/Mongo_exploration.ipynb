{
 "cells": [
  {
   "cell_type": "code",
   "execution_count": 1,
   "id": "6263c2cd",
   "metadata": {},
   "outputs": [],
   "source": [
    "from kafka import KafkaConsumer\n",
    "import json\n",
    "import pandas as pd\n",
    "from pymongo import MongoClient\n",
    "from pyspark.sql import SparkSession\n",
    "from pyspark.sql.types import *\n",
    "from pyspark.sql.functions import udf, col, lower, regexp_replace\n",
    "from pyspark.ml.feature import Tokenizer, StopWordsRemover, NGram, HashingTF, IDF\n",
    "from pyspark.ml import Pipeline\n",
    "from pyspark.sql.types import StructType,StructField\n",
    "from pyspark.ml import Pipeline\n",
    "from pyspark.ml.classification import LogisticRegression\n",
    "from pyspark.ml.classification import LogisticRegressionModel\n",
    "\n",
    "import nltk\n",
    "from nltk.corpus import stopwords"
   ]
  },
  {
   "cell_type": "markdown",
   "id": "4deb6865",
   "metadata": {},
   "source": [
    "# Import dans Pyspark"
   ]
  },
  {
   "cell_type": "code",
   "execution_count": 2,
   "id": "6089eca1",
   "metadata": {},
   "outputs": [],
   "source": [
    "\n",
    "\n",
    "# Ouverture de la Session Spark\n",
    "spark = SparkSession.\\\n",
    "builder.\\\n",
    "appName(\"myApp\").\\\n",
    "config(\"spark.mongodb.input.uri\", \"mongodb://mongo:27017/db_Booking.*\").\\\n",
    "config(\"spark.mongodb.output.uri\", \"mongodb://mongo:27017/db_Booking.*\").\\\n",
    "config(\"spark.jars.packages\", \"org.mongodb.spark:mongo-spark-connector_2.12:3.0.0\").\\\n",
    "getOrCreate()\n",
    "\n"
   ]
  },
  {
   "cell_type": "code",
   "execution_count": 3,
   "id": "c44885af",
   "metadata": {},
   "outputs": [],
   "source": [
    "db = spark.read.format(\"mongo\").option(\"uri\",\"mongodb://mongo:27017/Booking.Review\").load()"
   ]
  },
  {
   "cell_type": "code",
   "execution_count": 4,
   "id": "ec4eb1aa",
   "metadata": {
    "scrolled": true
   },
   "outputs": [
    {
     "name": "stdout",
     "output_type": "stream",
     "text": [
      "root\n",
      " |-- _id: struct (nullable = true)\n",
      " |    |-- oid: string (nullable = true)\n",
      " |-- hotel_name: string (nullable = true)\n",
      " |-- lat: double (nullable = true)\n",
      " |-- long: double (nullable = true)\n",
      " |-- polarity: long (nullable = true)\n",
      " |-- prediction: double (nullable = true)\n",
      " |-- review: string (nullable = true)\n",
      " |-- tags: string (nullable = true)\n",
      " |-- word_counts: long (nullable = true)\n",
      "\n"
     ]
    }
   ],
   "source": [
    "db.printSchema()"
   ]
  },
  {
   "cell_type": "markdown",
   "id": "749f804f",
   "metadata": {},
   "source": [
    "# Import avec Pandas"
   ]
  },
  {
   "cell_type": "code",
   "execution_count": 17,
   "id": "f7c233f7",
   "metadata": {},
   "outputs": [],
   "source": [
    "# Connection à MongoDB\n",
    "client = MongoClient('mongo',27017)\n",
    "\n",
    "#Création de la tables\n",
    "Booking = client.Booking\n",
    "\n",
    "#Création de post \n",
    "Review = Booking.Review"
   ]
  },
  {
   "cell_type": "code",
   "execution_count": 18,
   "id": "5959e128",
   "metadata": {
    "scrolled": false
   },
   "outputs": [
    {
     "data": {
      "text/plain": [
       "{'_id': ObjectId('624ed7f0a66bb930cc7cacbc'),\n",
       " 'hotel_name': 'The Gore Hotel Starhotels Collezione',\n",
       " 'lat': 51.5001979,\n",
       " 'long': -0.1795357,\n",
       " 'review': ' The room we were allocated been coming to this hotel for over 2 decades but when I am leaning over the bath to get hot water to wash my hands because it takes so long for hot water to reach tap in basin it s time to quit coming here beyond quirky now tired ',\n",
       " 'word_counts': 56,\n",
       " 'polarity': 0,\n",
       " 'prediction': 0.0,\n",
       " 'tags': \"[' Leisure trip ', ' Couple ', ' Superior Double Room ', ' Stayed 1 night ', ' Submitted from a mobile device ']\"}"
      ]
     },
     "execution_count": 18,
     "metadata": {},
     "output_type": "execute_result"
    }
   ],
   "source": [
    "next(Booking.Review.find())"
   ]
  },
  {
   "cell_type": "code",
   "execution_count": 19,
   "id": "a6382ecf",
   "metadata": {},
   "outputs": [
    {
     "data": {
      "text/plain": [
       "[{'_id': ObjectId('624ed7f0a66bb930cc7cacbc'),\n",
       "  'hotel_name': 'The Gore Hotel Starhotels Collezione',\n",
       "  'lat': 51.5001979,\n",
       "  'long': -0.1795357,\n",
       "  'review': ' The room we were allocated been coming to this hotel for over 2 decades but when I am leaning over the bath to get hot water to wash my hands because it takes so long for hot water to reach tap in basin it s time to quit coming here beyond quirky now tired ',\n",
       "  'word_counts': 56,\n",
       "  'polarity': 0,\n",
       "  'prediction': 0.0,\n",
       "  'tags': \"[' Leisure trip ', ' Couple ', ' Superior Double Room ', ' Stayed 1 night ', ' Submitted from a mobile device ']\"},\n",
       " {'_id': ObjectId('624ed7f5a66bb930cc7cacbd'),\n",
       "  'hotel_name': 'The Principal London',\n",
       "  'lat': 51.5226217,\n",
       "  'long': -0.1251602,\n",
       "  'review': ' The room was cold the heating was set to low ',\n",
       "  'word_counts': 12,\n",
       "  'polarity': 0,\n",
       "  'prediction': 0.0,\n",
       "  'tags': \"[' Business trip ', ' Solo traveler ', ' Single Room ', ' Stayed 1 night ']\"}]"
      ]
     },
     "execution_count": 19,
     "metadata": {},
     "output_type": "execute_result"
    }
   ],
   "source": [
    "cursor= Review.find()\n",
    "data = list(cursor)\n",
    "data[:2]"
   ]
  },
  {
   "cell_type": "code",
   "execution_count": 20,
   "id": "21ac61ce",
   "metadata": {},
   "outputs": [
    {
     "data": {
      "text/html": [
       "<div>\n",
       "<style scoped>\n",
       "    .dataframe tbody tr th:only-of-type {\n",
       "        vertical-align: middle;\n",
       "    }\n",
       "\n",
       "    .dataframe tbody tr th {\n",
       "        vertical-align: top;\n",
       "    }\n",
       "\n",
       "    .dataframe thead th {\n",
       "        text-align: right;\n",
       "    }\n",
       "</style>\n",
       "<table border=\"1\" class=\"dataframe\">\n",
       "  <thead>\n",
       "    <tr style=\"text-align: right;\">\n",
       "      <th></th>\n",
       "      <th>_id</th>\n",
       "      <th>hotel_name</th>\n",
       "      <th>lat</th>\n",
       "      <th>long</th>\n",
       "      <th>review</th>\n",
       "      <th>word_counts</th>\n",
       "      <th>polarity</th>\n",
       "      <th>prediction</th>\n",
       "      <th>tags</th>\n",
       "    </tr>\n",
       "  </thead>\n",
       "  <tbody>\n",
       "    <tr>\n",
       "      <th>0</th>\n",
       "      <td>624ed7f0a66bb930cc7cacbc</td>\n",
       "      <td>The Gore Hotel Starhotels Collezione</td>\n",
       "      <td>51.500198</td>\n",
       "      <td>-0.179536</td>\n",
       "      <td>The room we were allocated been coming to thi...</td>\n",
       "      <td>56</td>\n",
       "      <td>0</td>\n",
       "      <td>0.0</td>\n",
       "      <td>[' Leisure trip ', ' Couple ', ' Superior Doub...</td>\n",
       "    </tr>\n",
       "    <tr>\n",
       "      <th>1</th>\n",
       "      <td>624ed7f5a66bb930cc7cacbd</td>\n",
       "      <td>The Principal London</td>\n",
       "      <td>51.522622</td>\n",
       "      <td>-0.125160</td>\n",
       "      <td>The room was cold the heating was set to low</td>\n",
       "      <td>12</td>\n",
       "      <td>0</td>\n",
       "      <td>0.0</td>\n",
       "      <td>[' Business trip ', ' Solo traveler ', ' Singl...</td>\n",
       "    </tr>\n",
       "  </tbody>\n",
       "</table>\n",
       "</div>"
      ],
      "text/plain": [
       "                        _id                            hotel_name        lat  \\\n",
       "0  624ed7f0a66bb930cc7cacbc  The Gore Hotel Starhotels Collezione  51.500198   \n",
       "1  624ed7f5a66bb930cc7cacbd                  The Principal London  51.522622   \n",
       "\n",
       "       long                                             review  word_counts  \\\n",
       "0 -0.179536   The room we were allocated been coming to thi...           56   \n",
       "1 -0.125160      The room was cold the heating was set to low            12   \n",
       "\n",
       "   polarity  prediction                                               tags  \n",
       "0         0         0.0  [' Leisure trip ', ' Couple ', ' Superior Doub...  \n",
       "1         0         0.0  [' Business trip ', ' Solo traveler ', ' Singl...  "
      ]
     },
     "execution_count": 20,
     "metadata": {},
     "output_type": "execute_result"
    }
   ],
   "source": [
    "df = pd.DataFrame(data)\n",
    "df.head(2)"
   ]
  },
  {
   "cell_type": "code",
   "execution_count": 21,
   "id": "43754b92",
   "metadata": {},
   "outputs": [
    {
     "data": {
      "text/html": [
       "<div>\n",
       "<style scoped>\n",
       "    .dataframe tbody tr th:only-of-type {\n",
       "        vertical-align: middle;\n",
       "    }\n",
       "\n",
       "    .dataframe tbody tr th {\n",
       "        vertical-align: top;\n",
       "    }\n",
       "\n",
       "    .dataframe thead th {\n",
       "        text-align: right;\n",
       "    }\n",
       "</style>\n",
       "<table border=\"1\" class=\"dataframe\">\n",
       "  <thead>\n",
       "    <tr style=\"text-align: right;\">\n",
       "      <th></th>\n",
       "      <th>0</th>\n",
       "      <th>1</th>\n",
       "    </tr>\n",
       "  </thead>\n",
       "  <tbody>\n",
       "    <tr>\n",
       "      <th>0</th>\n",
       "      <td>213</td>\n",
       "      <td>23</td>\n",
       "    </tr>\n",
       "    <tr>\n",
       "      <th>1</th>\n",
       "      <td>39</td>\n",
       "      <td>224</td>\n",
       "    </tr>\n",
       "  </tbody>\n",
       "</table>\n",
       "</div>"
      ],
      "text/plain": [
       "     0    1\n",
       "0  213   23\n",
       "1   39  224"
      ]
     },
     "execution_count": 21,
     "metadata": {},
     "output_type": "execute_result"
    }
   ],
   "source": [
    "from sklearn.metrics import balanced_accuracy_score, make_scorer, confusion_matrix, classification_report, average_precision_score,precision_score\n",
    "\n",
    "\n",
    "conf_matrix_LR=confusion_matrix(df['polarity'],df['prediction'])\n",
    "conf_matrix_LR = pd.DataFrame(conf_matrix_LR)\n",
    "conf_matrix_LR"
   ]
  },
  {
   "cell_type": "code",
   "execution_count": 22,
   "id": "30b0d1a4",
   "metadata": {
    "scrolled": true
   },
   "outputs": [
    {
     "name": "stdout",
     "output_type": "stream",
     "text": [
      "              precision    recall  f1-score   support\n",
      "\n",
      "           0       0.85      0.90      0.87       236\n",
      "           1       0.91      0.85      0.88       263\n",
      "\n",
      "    accuracy                           0.88       499\n",
      "   macro avg       0.88      0.88      0.88       499\n",
      "weighted avg       0.88      0.88      0.88       499\n",
      "\n"
     ]
    }
   ],
   "source": [
    "cr_RL = classification_report(df['polarity'],df['prediction'])\n",
    "print(cr_RL)"
   ]
  },
  {
   "cell_type": "code",
   "execution_count": null,
   "id": "f292c890",
   "metadata": {},
   "outputs": [],
   "source": []
  }
 ],
 "metadata": {
  "kernelspec": {
   "display_name": "Python 3",
   "language": "python",
   "name": "python3"
  },
  "language_info": {
   "codemirror_mode": {
    "name": "ipython",
    "version": 3
   },
   "file_extension": ".py",
   "mimetype": "text/x-python",
   "name": "python",
   "nbconvert_exporter": "python",
   "pygments_lexer": "ipython3",
   "version": "3.8.8"
  }
 },
 "nbformat": 4,
 "nbformat_minor": 5
}
