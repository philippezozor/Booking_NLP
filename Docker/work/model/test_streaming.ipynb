{
 "cells": [
  {
   "cell_type": "code",
   "execution_count": 10,
   "id": "4e9b6ba2",
   "metadata": {},
   "outputs": [
    {
     "name": "stderr",
     "output_type": "stream",
     "text": [
      "[nltk_data] Downloading package stopwords to /home/jovyan/nltk_data...\n",
      "[nltk_data]   Package stopwords is already up-to-date!\n"
     ]
    },
    {
     "data": {
      "text/plain": [
       "True"
      ]
     },
     "execution_count": 10,
     "metadata": {},
     "output_type": "execute_result"
    }
   ],
   "source": [
    "from pyspark.sql import SparkSession\n",
    "from pyspark.sql.types import *\n",
    "from pyspark.sql.functions import udf, col, lower, regexp_replace,countDistinct\n",
    "from pyspark.ml.feature import Tokenizer, StopWordsRemover, NGram, HashingTF, IDF\n",
    "from pyspark.ml import Pipeline\n",
    "from pyspark.sql.types import StructType,StructField\n",
    "import pandas as pd\n",
    "from pyspark.ml.classification import LogisticRegression\n",
    "from pyspark.ml.evaluation import BinaryClassificationEvaluator\n",
    "from pyspark.ml.classification import LogisticRegressionModel\n",
    "from pyspark.ml import PipelineModel\n",
    "import time\n",
    "import nltk\n",
    "from nltk.corpus import stopwords\n",
    "nltk.download('stopwords')\n",
    "\n"
   ]
  },
  {
   "cell_type": "code",
   "execution_count": 11,
   "id": "a2bbb8d8",
   "metadata": {},
   "outputs": [],
   "source": [
    "spark = SparkSession.builder.getOrCreate()"
   ]
  },
  {
   "cell_type": "code",
   "execution_count": 12,
   "id": "f3ed877a",
   "metadata": {},
   "outputs": [
    {
     "data": {
      "text/plain": [
       "[('c0', 'int'),\n",
       " ('hotel_name', 'string'),\n",
       " ('lat', 'float'),\n",
       " ('long', 'float'),\n",
       " ('average_score', 'float'),\n",
       " ('review', 'string'),\n",
       " ('polarity', 'int'),\n",
       " ('word_counts', 'int'),\n",
       " ('tags', 'string')]"
      ]
     },
     "execution_count": 12,
     "metadata": {},
     "output_type": "execute_result"
    }
   ],
   "source": [
    "\n",
    "\n",
    "#telechargement des données de trainning\n",
    "train_review = \"/home/jovyan/work/data/streaming_booking_prepared.csv\"\n",
    "\n",
    "# lecture d'un fichier de manière la plus brute\n",
    "schema = StructType([\n",
    "    StructField('c0', IntegerType(),True),\n",
    "    StructField('hotel_name', StringType(),True),\n",
    "    StructField('lat', FloatType(),True),\n",
    "    StructField('long', FloatType(),True),\n",
    "    StructField('average_score', FloatType(),True),\n",
    "    StructField('review', StringType(),True),\n",
    "    StructField('polarity', IntegerType(),True),\n",
    "    StructField('word_counts', IntegerType(),True),\n",
    "    StructField('tags', StringType(),True),\n",
    "])\n",
    "\n",
    "df = spark.read.format('csv').options(header=True).options(delimiter= \";\").schema(schema).load(train_review )\n",
    "df.dtypes"
   ]
  },
  {
   "cell_type": "code",
   "execution_count": 13,
   "id": "5c2dc103",
   "metadata": {
    "scrolled": true
   },
   "outputs": [],
   "source": [
    "# Chargement du pipeline de preprocessing des données\n",
    "#mypipeline =  Pipeline.load(\"./myPipeline\")\n",
    "mypipeline =  PipelineModel.load(\"pipe2\")\n",
    "# Chargement de notre modele\n",
    "mylrModel =  LogisticRegressionModel.load(\"./myModel\")"
   ]
  },
  {
   "cell_type": "code",
   "execution_count": 15,
   "id": "7ce4d954",
   "metadata": {},
   "outputs": [],
   "source": [
    "df_prepared= mypipeline.transform(df)\n"
   ]
  },
  {
   "cell_type": "code",
   "execution_count": 13,
   "id": "cd7e7aa9",
   "metadata": {},
   "outputs": [
    {
     "data": {
      "text/plain": [
       "DataFrame[c0: int, hotel_name: string, lat: float, long: float, average_score: float, review: string, polarity: int, word_counts: int, tags: string, words_token: array<string>, words_clean: array<string>, bigrams: array<string>, rawFeatures: vector, features: vector]"
      ]
     },
     "execution_count": 13,
     "metadata": {},
     "output_type": "execute_result"
    }
   ],
   "source": [
    "df_prepared\n"
   ]
  },
  {
   "cell_type": "code",
   "execution_count": 16,
   "id": "01be35f0",
   "metadata": {},
   "outputs": [],
   "source": [
    "lrPreds= mylrModel.transform(df_prepared)"
   ]
  },
  {
   "cell_type": "code",
   "execution_count": 17,
   "id": "1ae28035",
   "metadata": {
    "scrolled": false
   },
   "outputs": [
    {
     "data": {
      "text/plain": [
       "[Row(hotel_name='Best Western S vres Montparnasse', polarity=1, prediction=1.0),\n",
       " Row(hotel_name='Holiday Inn London Stratford City', polarity=0, prediction=0.0),\n",
       " Row(hotel_name='Novotel Suites Paris Montreuil Vincennes', polarity=0, prediction=0.0),\n",
       " Row(hotel_name='St James Court A Taj Hotel London', polarity=1, prediction=1.0),\n",
       " Row(hotel_name='Hotel Berna', polarity=0, prediction=0.0),\n",
       " Row(hotel_name='Ambassadors Bloomsbury', polarity=0, prediction=0.0),\n",
       " Row(hotel_name='Holiday Inn London Bloomsbury', polarity=1, prediction=1.0),\n",
       " Row(hotel_name='NH Collection Amsterdam Barbizon Palace', polarity=1, prediction=0.0),\n",
       " Row(hotel_name='St Pancras Renaissance Hotel London', polarity=1, prediction=1.0),\n",
       " Row(hotel_name='Hotel de France Wien', polarity=0, prediction=0.0),\n",
       " Row(hotel_name='NH Milano Touring', polarity=0, prediction=0.0),\n",
       " Row(hotel_name='Park Plaza Westminster Bridge London', polarity=0, prediction=0.0),\n",
       " Row(hotel_name='Hotel Erzherzog Rainer', polarity=1, prediction=0.0),\n",
       " Row(hotel_name='Rosa Grand Milano Starhotels Collezione', polarity=0, prediction=0.0),\n",
       " Row(hotel_name='Crowne Plaza London Docklands', polarity=0, prediction=0.0),\n",
       " Row(hotel_name='art otel Amsterdam', polarity=1, prediction=1.0),\n",
       " Row(hotel_name='Hotel Vignon', polarity=1, prediction=1.0),\n",
       " Row(hotel_name='Hotel Okura Amsterdam', polarity=0, prediction=0.0),\n",
       " Row(hotel_name='Hotel Michelangelo', polarity=1, prediction=1.0),\n",
       " Row(hotel_name='The Westbury A Luxury Collection Hotel Mayfair London', polarity=1, prediction=1.0),\n",
       " Row(hotel_name='Hilton London Olympia', polarity=0, prediction=0.0),\n",
       " Row(hotel_name='Hotel Santa Marta Suites', polarity=1, prediction=0.0),\n",
       " Row(hotel_name='Park Grand Paddington Court', polarity=1, prediction=1.0),\n",
       " Row(hotel_name='Starhotels Ritz', polarity=0, prediction=0.0),\n",
       " Row(hotel_name='Hotel 82 London', polarity=0, prediction=0.0),\n",
       " Row(hotel_name='Ayre Hotel Gran V a', polarity=1, prediction=1.0),\n",
       " Row(hotel_name='Park Plaza Westminster Bridge London', polarity=1, prediction=1.0),\n",
       " Row(hotel_name='The Rockwell', polarity=1, prediction=1.0),\n",
       " Row(hotel_name='Hotel Pulitzer', polarity=0, prediction=0.0),\n",
       " Row(hotel_name='Thistle Trafalgar Square The Royal Trafalgar', polarity=0, prediction=0.0),\n",
       " Row(hotel_name='Club Quarters Hotel Lincoln s Inn Fields', polarity=1, prediction=1.0),\n",
       " Row(hotel_name='Hilton London Bankside', polarity=0, prediction=0.0),\n",
       " Row(hotel_name='Hotel Stefanie', polarity=1, prediction=1.0),\n",
       " Row(hotel_name='Radisson Blu Edwardian Grafton', polarity=1, prediction=1.0),\n",
       " Row(hotel_name='The Kensington Hotel', polarity=1, prediction=1.0),\n",
       " Row(hotel_name='H10 Port Vell 4 Sup', polarity=1, prediction=1.0),\n",
       " Row(hotel_name='Catalonia Plaza Catalunya', polarity=0, prediction=0.0),\n",
       " Row(hotel_name='M by Montcalm Shoreditch London Tech City', polarity=0, prediction=0.0),\n",
       " Row(hotel_name='Crowne Plaza London Ealing', polarity=1, prediction=1.0),\n",
       " Row(hotel_name='Great Northern Hotel A Tribute Portfolio Hotel London', polarity=0, prediction=0.0),\n",
       " Row(hotel_name='Best Western Premier Hotel Couture', polarity=0, prediction=0.0),\n",
       " Row(hotel_name='Clayton Hotel Chiswick', polarity=0, prediction=0.0),\n",
       " Row(hotel_name='Amba Hotel Marble Arch', polarity=1, prediction=1.0),\n",
       " Row(hotel_name='Pullman Paris Tour Eiffel', polarity=0, prediction=0.0),\n",
       " Row(hotel_name='Hotel Am Parkring', polarity=1, prediction=1.0),\n",
       " Row(hotel_name='Staunton Hotel B B', polarity=0, prediction=0.0),\n",
       " Row(hotel_name='NH Collection Amsterdam Grand Hotel Krasnapolsky', polarity=1, prediction=1.0),\n",
       " Row(hotel_name='DoubleTree by Hilton London Docklands Riverside', polarity=1, prediction=1.0),\n",
       " Row(hotel_name='Grange Clarendon Hotel', polarity=0, prediction=0.0),\n",
       " Row(hotel_name='Goodenough Club', polarity=0, prediction=0.0)]"
      ]
     },
     "execution_count": 17,
     "metadata": {},
     "output_type": "execute_result"
    }
   ],
   "source": [
    "lrPreds.select('hotel_name','polarity','prediction').head(50)"
   ]
  },
  {
   "cell_type": "code",
   "execution_count": 18,
   "id": "9503c1ec",
   "metadata": {},
   "outputs": [
    {
     "data": {
      "text/plain": [
       "0.8781185256561072"
      ]
     },
     "execution_count": 18,
     "metadata": {},
     "output_type": "execute_result"
    }
   ],
   "source": [
    "from pyspark.ml.evaluation import BinaryClassificationEvaluator\n",
    "\n",
    "my_eval_lr = BinaryClassificationEvaluator(rawPredictionCol='prediction', labelCol='polarity', metricName='areaUnderROC')\n",
    "my_eval_lr.evaluate(lrPreds)"
   ]
  },
  {
   "cell_type": "code",
   "execution_count": null,
   "id": "1763c7bc",
   "metadata": {},
   "outputs": [],
   "source": []
  },
  {
   "cell_type": "code",
   "execution_count": null,
   "id": "42ecf26b",
   "metadata": {},
   "outputs": [],
   "source": []
  },
  {
   "cell_type": "code",
   "execution_count": null,
   "id": "a44cf5f3",
   "metadata": {},
   "outputs": [],
   "source": []
  },
  {
   "cell_type": "code",
   "execution_count": null,
   "id": "adf16f18",
   "metadata": {},
   "outputs": [],
   "source": []
  },
  {
   "cell_type": "code",
   "execution_count": null,
   "id": "76a176cc",
   "metadata": {},
   "outputs": [],
   "source": []
  },
  {
   "cell_type": "code",
   "execution_count": null,
   "id": "ec81aaad",
   "metadata": {},
   "outputs": [],
   "source": []
  }
 ],
 "metadata": {
  "kernelspec": {
   "display_name": "Python 3",
   "language": "python",
   "name": "python3"
  },
  "language_info": {
   "codemirror_mode": {
    "name": "ipython",
    "version": 3
   },
   "file_extension": ".py",
   "mimetype": "text/x-python",
   "name": "python",
   "nbconvert_exporter": "python",
   "pygments_lexer": "ipython3",
   "version": "3.8.8"
  }
 },
 "nbformat": 4,
 "nbformat_minor": 5
}
