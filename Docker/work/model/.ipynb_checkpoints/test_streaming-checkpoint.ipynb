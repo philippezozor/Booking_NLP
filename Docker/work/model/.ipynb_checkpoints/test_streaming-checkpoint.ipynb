{
 "cells": [
  {
   "cell_type": "code",
   "execution_count": 5,
   "id": "4e9b6ba2",
   "metadata": {},
   "outputs": [
    {
     "name": "stderr",
     "output_type": "stream",
     "text": [
      "[nltk_data] Downloading package stopwords to /home/jovyan/nltk_data...\n",
      "[nltk_data]   Package stopwords is already up-to-date!\n"
     ]
    },
    {
     "data": {
      "text/plain": [
       "True"
      ]
     },
     "execution_count": 5,
     "metadata": {},
     "output_type": "execute_result"
    }
   ],
   "source": [
    "from pyspark.sql import SparkSession\n",
    "from pyspark.sql.types import *\n",
    "from pyspark.sql.functions import udf, col, lower, regexp_replace,countDistinct\n",
    "from pyspark.ml.feature import Tokenizer, StopWordsRemover, NGram, HashingTF, IDF\n",
    "from pyspark.ml import Pipeline\n",
    "from pyspark.sql.types import StructType,StructField\n",
    "import pandas as pd\n",
    "from pyspark.ml.classification import LogisticRegression\n",
    "from pyspark.ml.evaluation import BinaryClassificationEvaluator\n",
    "from pyspark.ml.classification import LogisticRegressionModel\n",
    "\n",
    "\n",
    "import nltk\n",
    "from nltk.corpus import stopwords\n",
    "nltk.download('stopwords')\n",
    "\n"
   ]
  },
  {
   "cell_type": "code",
   "execution_count": 2,
   "id": "a2bbb8d8",
   "metadata": {},
   "outputs": [],
   "source": [
    "spark = SparkSession.builder.getOrCreate()"
   ]
  },
  {
   "cell_type": "code",
   "execution_count": 3,
   "id": "f3ed877a",
   "metadata": {},
   "outputs": [
    {
     "data": {
      "text/plain": [
       "[('c0', 'int'),\n",
       " ('hotel_name', 'string'),\n",
       " ('lat', 'float'),\n",
       " ('long', 'float'),\n",
       " ('average_score', 'float'),\n",
       " ('review', 'string'),\n",
       " ('polarity', 'int'),\n",
       " ('word_counts', 'int'),\n",
       " ('tags', 'string')]"
      ]
     },
     "execution_count": 3,
     "metadata": {},
     "output_type": "execute_result"
    }
   ],
   "source": [
    "\n",
    "\n",
    "#telechargement des données de trainning\n",
    "train_review = \"/home/jovyan/work/data/streaming_booking_prepared.csv\"\n",
    "\n",
    "# lecture d'un fichier de manière la plus brute\n",
    "schema = StructType([\n",
    "    StructField('c0', IntegerType(),True),\n",
    "    StructField('hotel_name', StringType(),True),\n",
    "    StructField('lat', FloatType(),True),\n",
    "    StructField('long', FloatType(),True),\n",
    "    StructField('average_score', FloatType(),True),\n",
    "    StructField('review', StringType(),True),\n",
    "    StructField('polarity', IntegerType(),True),\n",
    "    StructField('word_counts', IntegerType(),True),\n",
    "    StructField('tags', StringType(),True),\n",
    "])\n",
    "\n",
    "df = spark.read.format('csv').options(header=True).options(delimiter= \";\").schema(schema).load(train_review )\n",
    "df.dtypes"
   ]
  },
  {
   "cell_type": "code",
   "execution_count": 6,
   "id": "5c2dc103",
   "metadata": {
    "scrolled": true
   },
   "outputs": [],
   "source": [
    "# Chargement du pipeline de preprocessing des données\n",
    "mypipeline =  Pipeline.load(\"./myPipeline\")\n",
    "\n",
    "# Chargement de notre modele\n",
    "mylrModel =  LogisticRegressionModel.load(\"./myModel\")"
   ]
  },
  {
   "cell_type": "code",
   "execution_count": 8,
   "id": "7ce4d954",
   "metadata": {},
   "outputs": [],
   "source": [
    "df_prepared= mypipeline.fit(df).transform(df)\n"
   ]
  },
  {
   "cell_type": "code",
   "execution_count": 13,
   "id": "cd7e7aa9",
   "metadata": {},
   "outputs": [
    {
     "data": {
      "text/plain": [
       "DataFrame[c0: int, hotel_name: string, lat: float, long: float, average_score: float, review: string, polarity: int, word_counts: int, tags: string, words_token: array<string>, words_clean: array<string>, bigrams: array<string>, rawFeatures: vector, features: vector]"
      ]
     },
     "execution_count": 13,
     "metadata": {},
     "output_type": "execute_result"
    }
   ],
   "source": [
    "df_prepared\n"
   ]
  },
  {
   "cell_type": "code",
   "execution_count": 15,
   "id": "01be35f0",
   "metadata": {},
   "outputs": [],
   "source": [
    "lrPreds5= mylrModel.transform(df_prepared)"
   ]
  },
  {
   "cell_type": "code",
   "execution_count": 20,
   "id": "1ae28035",
   "metadata": {
    "scrolled": false
   },
   "outputs": [
    {
     "data": {
      "text/plain": [
       "[Row(hotel_name='Starhotels Business Palace', polarity=1, prediction=1.0),\n",
       " Row(hotel_name='The Tower A Guoman Hotel', polarity=1, prediction=1.0),\n",
       " Row(hotel_name='Hotel Elys es Bassano', polarity=1, prediction=1.0),\n",
       " Row(hotel_name='The Soho Hotel', polarity=1, prediction=1.0),\n",
       " Row(hotel_name='Hotel Best Western PLUS Alfa Aeropuerto', polarity=0, prediction=0.0),\n",
       " Row(hotel_name='Grand Royale London Hyde Park', polarity=0, prediction=0.0),\n",
       " Row(hotel_name='Millennium Gloucester Hotel London', polarity=0, prediction=0.0),\n",
       " Row(hotel_name='Chateau Frontenac', polarity=0, prediction=0.0),\n",
       " Row(hotel_name='Hotel Esther a', polarity=1, prediction=1.0),\n",
       " Row(hotel_name='Hotel de France Wien', polarity=0, prediction=0.0),\n",
       " Row(hotel_name='Hotel Stefanie', polarity=1, prediction=0.0),\n",
       " Row(hotel_name='Leonardo Hotel Vienna', polarity=1, prediction=1.0),\n",
       " Row(hotel_name='Hilton London Metropole', polarity=0, prediction=0.0),\n",
       " Row(hotel_name='Starhotels Echo', polarity=1, prediction=1.0),\n",
       " Row(hotel_name='NH Collection Wien Zentrum', polarity=1, prediction=1.0),\n",
       " Row(hotel_name='Hotel mbit Barcelona', polarity=0, prediction=0.0),\n",
       " Row(hotel_name='Swiss tel Amsterdam', polarity=1, prediction=1.0),\n",
       " Row(hotel_name='Sunotel Central', polarity=1, prediction=1.0),\n",
       " Row(hotel_name='Best Western Premier Faubourg 88', polarity=0, prediction=0.0),\n",
       " Row(hotel_name='Park Plaza County Hall London', polarity=0, prediction=0.0),\n",
       " Row(hotel_name='Commodore Hotel', polarity=0, prediction=0.0),\n",
       " Row(hotel_name='Hotel du Louvre in the Unbound Collection by Hyatt', polarity=0, prediction=0.0),\n",
       " Row(hotel_name='Best Western Plus de Neuville Arc de Triomphe', polarity=1, prediction=1.0),\n",
       " Row(hotel_name='Strand Palace Hotel', polarity=0, prediction=0.0),\n",
       " Row(hotel_name='Windsor Opera', polarity=0, prediction=0.0),\n",
       " Row(hotel_name='Castille Paris Starhotels Collezione', polarity=1, prediction=1.0),\n",
       " Row(hotel_name='Danubius Hotel Regents Park', polarity=1, prediction=1.0),\n",
       " Row(hotel_name='Hotel Mailberger Hof', polarity=1, prediction=0.0),\n",
       " Row(hotel_name='Britannia International Hotel Canary Wharf', polarity=0, prediction=0.0),\n",
       " Row(hotel_name='Hotel Regina', polarity=0, prediction=0.0),\n",
       " Row(hotel_name='Doubletree by Hilton London Kensington', polarity=1, prediction=1.0),\n",
       " Row(hotel_name='Hilton London Kensington Hotel', polarity=1, prediction=1.0),\n",
       " Row(hotel_name='Intercontinental London The O2', polarity=0, prediction=0.0),\n",
       " Row(hotel_name='Park Plaza County Hall London', polarity=1, prediction=1.0),\n",
       " Row(hotel_name='St Paul s Hotel', polarity=1, prediction=1.0),\n",
       " Row(hotel_name='The Nadler Victoria', polarity=0, prediction=0.0),\n",
       " Row(hotel_name='The Student Hotel Amsterdam City', polarity=1, prediction=1.0),\n",
       " Row(hotel_name='The Nadler Soho', polarity=1, prediction=1.0),\n",
       " Row(hotel_name='Renaissance Amsterdam Hotel', polarity=1, prediction=1.0),\n",
       " Row(hotel_name='Starhotels Tourist', polarity=0, prediction=0.0),\n",
       " Row(hotel_name='Boutique Hotel Notting Hill', polarity=0, prediction=0.0),\n",
       " Row(hotel_name='Hotel du Collectionneur Arc de Triomphe', polarity=1, prediction=1.0),\n",
       " Row(hotel_name='The Principal London', polarity=1, prediction=1.0),\n",
       " Row(hotel_name='Hotel 1898', polarity=1, prediction=1.0),\n",
       " Row(hotel_name='Britannia International Hotel Canary Wharf', polarity=1, prediction=1.0),\n",
       " Row(hotel_name='The Toren', polarity=1, prediction=1.0),\n",
       " Row(hotel_name='Radisson Blu Edwardian New Providence Wharf', polarity=0, prediction=0.0),\n",
       " Row(hotel_name='H tel Regina', polarity=1, prediction=1.0),\n",
       " Row(hotel_name='The Chamberlain', polarity=1, prediction=1.0),\n",
       " Row(hotel_name='IH Hotels Milano Gioia', polarity=0, prediction=0.0),\n",
       " Row(hotel_name='H10 Port Vell 4 Sup', polarity=1, prediction=1.0),\n",
       " Row(hotel_name='Malmaison London', polarity=1, prediction=1.0),\n",
       " Row(hotel_name='Senator Barcelona Spa Hotel', polarity=1, prediction=1.0),\n",
       " Row(hotel_name='IH Hotels Milano Gioia', polarity=0, prediction=1.0),\n",
       " Row(hotel_name='Hotel Espa a Ramblas', polarity=1, prediction=1.0),\n",
       " Row(hotel_name='Mercure Hotel Amsterdam City South', polarity=1, prediction=1.0),\n",
       " Row(hotel_name='The Cumberland A Guoman Hotel', polarity=0, prediction=0.0),\n",
       " Row(hotel_name='Austria Trend Hotel Europa Wien', polarity=0, prediction=0.0),\n",
       " Row(hotel_name='Intercontinental London The O2', polarity=1, prediction=1.0),\n",
       " Row(hotel_name='Park Grand London Kensington', polarity=1, prediction=1.0),\n",
       " Row(hotel_name='Arthotel ANA Boutique Six', polarity=1, prediction=1.0),\n",
       " Row(hotel_name='Millennium Hotel London Mayfair', polarity=1, prediction=1.0),\n",
       " Row(hotel_name='Hilton London Metropole', polarity=0, prediction=0.0),\n",
       " Row(hotel_name='Grange Rochester Hotel', polarity=1, prediction=1.0),\n",
       " Row(hotel_name='Sofitel London St James', polarity=1, prediction=1.0),\n",
       " Row(hotel_name='Strand Palace Hotel', polarity=1, prediction=1.0),\n",
       " Row(hotel_name='Novotel Paris Centre Tour Eiffel', polarity=1, prediction=1.0),\n",
       " Row(hotel_name='The Grosvenor', polarity=0, prediction=0.0),\n",
       " Row(hotel_name='Best Western Premier Marais Grands Boulevards', polarity=1, prediction=1.0),\n",
       " Row(hotel_name='Relais Saint Jacques', polarity=1, prediction=1.0),\n",
       " Row(hotel_name='Hotel Alimara', polarity=0, prediction=1.0),\n",
       " Row(hotel_name='Napoleon Paris', polarity=1, prediction=1.0),\n",
       " Row(hotel_name='St James Court A Taj Hotel London', polarity=0, prediction=0.0),\n",
       " Row(hotel_name='Hilton Amsterdam', polarity=0, prediction=1.0),\n",
       " Row(hotel_name='Axel Hotel Barcelona Urban Spa Adults Only', polarity=0, prediction=0.0),\n",
       " Row(hotel_name='Park Plaza County Hall London', polarity=1, prediction=1.0),\n",
       " Row(hotel_name='Mercure Tour Eiffel Grenelle', polarity=0, prediction=0.0),\n",
       " Row(hotel_name='Hotel Berna', polarity=1, prediction=0.0),\n",
       " Row(hotel_name='Hotel Da Vinci', polarity=0, prediction=0.0),\n",
       " Row(hotel_name='Holiday Inn Vienna City', polarity=1, prediction=1.0),\n",
       " Row(hotel_name='Park Plaza Westminster Bridge London', polarity=1, prediction=1.0),\n",
       " Row(hotel_name='Exe Laietana Palace', polarity=1, prediction=1.0),\n",
       " Row(hotel_name='The Grand at Trafalgar Square', polarity=0, prediction=0.0),\n",
       " Row(hotel_name='Shaftesbury Metropolis London Hyde Park', polarity=0, prediction=0.0),\n",
       " Row(hotel_name='Adria Boutique Hotel', polarity=0, prediction=0.0),\n",
       " Row(hotel_name='DoubleTree by Hilton London West End', polarity=0, prediction=1.0),\n",
       " Row(hotel_name='Vienna Marriott Hotel', polarity=0, prediction=0.0),\n",
       " Row(hotel_name='Novotel London Wembley', polarity=0, prediction=0.0),\n",
       " Row(hotel_name='Hotel Well and Come', polarity=1, prediction=1.0),\n",
       " Row(hotel_name='De Vere Devonport House', polarity=0, prediction=0.0),\n",
       " Row(hotel_name='Idea Hotel Milano San Siro', polarity=1, prediction=0.0),\n",
       " Row(hotel_name='Novotel London West', polarity=0, prediction=0.0),\n",
       " Row(hotel_name='Hilton London Canary Wharf', polarity=0, prediction=0.0),\n",
       " Row(hotel_name='Evenia Rossello', polarity=1, prediction=1.0),\n",
       " Row(hotel_name='Nhow Milan', polarity=1, prediction=1.0),\n",
       " Row(hotel_name='citizenM Amsterdam', polarity=0, prediction=0.0),\n",
       " Row(hotel_name='Holiday Inn London Kensington', polarity=0, prediction=0.0),\n",
       " Row(hotel_name='IntercityHotel Wien', polarity=0, prediction=0.0),\n",
       " Row(hotel_name='The Montague On The Gardens', polarity=1, prediction=1.0),\n",
       " Row(hotel_name='AZIMUT Hotel Vienna', polarity=0, prediction=0.0)]"
      ]
     },
     "execution_count": 20,
     "metadata": {},
     "output_type": "execute_result"
    }
   ],
   "source": [
    "lrPreds.select('hotel_name','polarity','prediction').tail(100)"
   ]
  },
  {
   "cell_type": "code",
   "execution_count": 18,
   "id": "9503c1ec",
   "metadata": {},
   "outputs": [
    {
     "data": {
      "text/plain": [
       "0.8793991118655057"
      ]
     },
     "execution_count": 18,
     "metadata": {},
     "output_type": "execute_result"
    }
   ],
   "source": [
    "from pyspark.ml.evaluation import BinaryClassificationEvaluator\n",
    "\n",
    "my_eval_lr = BinaryClassificationEvaluator(rawPredictionCol='prediction', labelCol='polarity', metricName='areaUnderROC')\n",
    "my_eval_lr.evaluate(lrPreds)"
   ]
  },
  {
   "cell_type": "code",
   "execution_count": null,
   "id": "1763c7bc",
   "metadata": {},
   "outputs": [],
   "source": []
  },
  {
   "cell_type": "code",
   "execution_count": null,
   "id": "42ecf26b",
   "metadata": {},
   "outputs": [],
   "source": []
  },
  {
   "cell_type": "code",
   "execution_count": null,
   "id": "a44cf5f3",
   "metadata": {},
   "outputs": [],
   "source": []
  },
  {
   "cell_type": "code",
   "execution_count": null,
   "id": "adf16f18",
   "metadata": {},
   "outputs": [],
   "source": []
  },
  {
   "cell_type": "code",
   "execution_count": null,
   "id": "76a176cc",
   "metadata": {},
   "outputs": [],
   "source": []
  },
  {
   "cell_type": "code",
   "execution_count": null,
   "id": "ec81aaad",
   "metadata": {},
   "outputs": [],
   "source": []
  }
 ],
 "metadata": {
  "kernelspec": {
   "display_name": "Python 3",
   "language": "python",
   "name": "python3"
  },
  "language_info": {
   "codemirror_mode": {
    "name": "ipython",
    "version": 3
   },
   "file_extension": ".py",
   "mimetype": "text/x-python",
   "name": "python",
   "nbconvert_exporter": "python",
   "pygments_lexer": "ipython3",
   "version": "3.8.8"
  }
 },
 "nbformat": 4,
 "nbformat_minor": 5
}
