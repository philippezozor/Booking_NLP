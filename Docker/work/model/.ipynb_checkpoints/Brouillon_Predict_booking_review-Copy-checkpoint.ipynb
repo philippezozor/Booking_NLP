{
 "cells": [
  {
   "cell_type": "code",
   "execution_count": 53,
   "id": "2de1de2e-e117-4bcf-9351-1aaedaaaedcb",
   "metadata": {},
   "outputs": [],
   "source": [
    "from pyspark.sql import SparkSession\n",
    "from pyspark.sql.types import *\n",
    "from pyspark.sql.functions import udf, col, lower, regexp_replace\n",
    "from pyspark.ml.feature import Tokenizer, StopWordsRemover, NGram, HashingTF, IDF\n",
    "from pyspark.ml import Pipeline\n",
    "from pyspark.sql.types import StructType,StructField\n",
    "import pandas as pd\n",
    "#from nltk.stem.snowball import SnowballStemmer"
   ]
  },
  {
   "cell_type": "code",
   "execution_count": 54,
   "id": "30e09a27-711c-4d68-bd94-dee659602715",
   "metadata": {},
   "outputs": [],
   "source": [
    "spark = SparkSession.builder.getOrCreate()"
   ]
  },
  {
   "cell_type": "code",
   "execution_count": 55,
   "id": "618cc1d9",
   "metadata": {},
   "outputs": [],
   "source": [
    "#.config(kafka)"
   ]
  },
  {
   "cell_type": "code",
   "execution_count": 56,
   "id": "dd614a3d",
   "metadata": {
    "scrolled": true
   },
   "outputs": [
    {
     "data": {
      "text/html": [
       "<div>\n",
       "<style scoped>\n",
       "    .dataframe tbody tr th:only-of-type {\n",
       "        vertical-align: middle;\n",
       "    }\n",
       "\n",
       "    .dataframe tbody tr th {\n",
       "        vertical-align: top;\n",
       "    }\n",
       "\n",
       "    .dataframe thead th {\n",
       "        text-align: right;\n",
       "    }\n",
       "</style>\n",
       "<table border=\"1\" class=\"dataframe\">\n",
       "  <thead>\n",
       "    <tr style=\"text-align: right;\">\n",
       "      <th></th>\n",
       "      <th>Unnamed: 0</th>\n",
       "      <th>Hotel_Name</th>\n",
       "      <th>lat</th>\n",
       "      <th>long</th>\n",
       "      <th>Average_Score</th>\n",
       "      <th>Review</th>\n",
       "      <th>Polarity</th>\n",
       "      <th>Word_counts</th>\n",
       "      <th>Tags</th>\n",
       "    </tr>\n",
       "  </thead>\n",
       "  <tbody>\n",
       "    <tr>\n",
       "      <th>240546</th>\n",
       "      <td>651436</td>\n",
       "      <td>Grange Tower Bridge Hotel</td>\n",
       "      <td>51.511551</td>\n",
       "      <td>-0.071492</td>\n",
       "      <td>8.7</td>\n",
       "      <td>Great Value for money attentive staff and ver...</td>\n",
       "      <td>1</td>\n",
       "      <td>10</td>\n",
       "      <td>[' Leisure trip ', ' Couple ', ' Superior Doub...</td>\n",
       "    </tr>\n",
       "    <tr>\n",
       "      <th>516461</th>\n",
       "      <td>763245</td>\n",
       "      <td>Montfleuri</td>\n",
       "      <td>48.874715</td>\n",
       "      <td>2.290639</td>\n",
       "      <td>8.2</td>\n",
       "      <td>Location offered an upraded room</td>\n",
       "      <td>1</td>\n",
       "      <td>6</td>\n",
       "      <td>[' Leisure trip ', ' Family with older childre...</td>\n",
       "    </tr>\n",
       "    <tr>\n",
       "      <th>183693</th>\n",
       "      <td>355262</td>\n",
       "      <td>DoubleTree by Hilton London Islington</td>\n",
       "      <td>51.532251</td>\n",
       "      <td>-0.109571</td>\n",
       "      <td>8.6</td>\n",
       "      <td>There are both newly remodeled and older room...</td>\n",
       "      <td>0</td>\n",
       "      <td>29</td>\n",
       "      <td>[' Leisure trip ', ' Family with young childre...</td>\n",
       "    </tr>\n",
       "    <tr>\n",
       "      <th>370918</th>\n",
       "      <td>294682</td>\n",
       "      <td>Hotel JL No76</td>\n",
       "      <td>52.359592</td>\n",
       "      <td>4.880159</td>\n",
       "      <td>8.8</td>\n",
       "      <td>No Negative</td>\n",
       "      <td>0</td>\n",
       "      <td>0</td>\n",
       "      <td>[' Business trip ', ' Solo traveler ', ' Soute...</td>\n",
       "    </tr>\n",
       "    <tr>\n",
       "      <th>299736</th>\n",
       "      <td>693863</td>\n",
       "      <td>Hilton London Wembley</td>\n",
       "      <td>51.557696</td>\n",
       "      <td>-0.283526</td>\n",
       "      <td>8.8</td>\n",
       "      <td>No Positive</td>\n",
       "      <td>1</td>\n",
       "      <td>0</td>\n",
       "      <td>[' Leisure trip ', ' Solo traveler ', ' Queen ...</td>\n",
       "    </tr>\n",
       "    <tr>\n",
       "      <th>533119</th>\n",
       "      <td>72825</td>\n",
       "      <td>NH Milano Touring</td>\n",
       "      <td>45.476917</td>\n",
       "      <td>9.196665</td>\n",
       "      <td>8.4</td>\n",
       "      <td>No Negative</td>\n",
       "      <td>0</td>\n",
       "      <td>0</td>\n",
       "      <td>[' Leisure trip ', ' Couple ', ' Standard Doub...</td>\n",
       "    </tr>\n",
       "    <tr>\n",
       "      <th>361962</th>\n",
       "      <td>250779</td>\n",
       "      <td>Hotel Erzherzog Rainer</td>\n",
       "      <td>48.195323</td>\n",
       "      <td>16.367288</td>\n",
       "      <td>8.8</td>\n",
       "      <td>The fact that owners of the hotel care only a...</td>\n",
       "      <td>0</td>\n",
       "      <td>21</td>\n",
       "      <td>[' Business trip ', ' Solo traveler ', ' Speci...</td>\n",
       "    </tr>\n",
       "    <tr>\n",
       "      <th>326574</th>\n",
       "      <td>464823</td>\n",
       "      <td>Holiday Inn Paris Gare Montparnasse</td>\n",
       "      <td>48.838292</td>\n",
       "      <td>2.323019</td>\n",
       "      <td>7.5</td>\n",
       "      <td>very friendly and helpful personnel</td>\n",
       "      <td>1</td>\n",
       "      <td>6</td>\n",
       "      <td>[' Leisure trip ', ' Group ', ' Twin Room Non ...</td>\n",
       "    </tr>\n",
       "    <tr>\n",
       "      <th>767634</th>\n",
       "      <td>620126</td>\n",
       "      <td>The Royal Horseguards</td>\n",
       "      <td>51.505418</td>\n",
       "      <td>-0.124150</td>\n",
       "      <td>8.9</td>\n",
       "      <td>It s located one block off of the main street...</td>\n",
       "      <td>1</td>\n",
       "      <td>144</td>\n",
       "      <td>[' Leisure trip ', ' Solo traveler ', ' Deluxe...</td>\n",
       "    </tr>\n",
       "    <tr>\n",
       "      <th>517005</th>\n",
       "      <td>484191</td>\n",
       "      <td>Monument Hotel</td>\n",
       "      <td>41.393908</td>\n",
       "      <td>2.162256</td>\n",
       "      <td>9.3</td>\n",
       "      <td>Very new and very clean in best location this...</td>\n",
       "      <td>1</td>\n",
       "      <td>41</td>\n",
       "      <td>[' Leisure trip ', ' Couple ', ' Junior Suite ...</td>\n",
       "    </tr>\n",
       "  </tbody>\n",
       "</table>\n",
       "</div>"
      ],
      "text/plain": [
       "        Unnamed: 0                             Hotel_Name        lat  \\\n",
       "240546      651436              Grange Tower Bridge Hotel  51.511551   \n",
       "516461      763245                             Montfleuri  48.874715   \n",
       "183693      355262  DoubleTree by Hilton London Islington  51.532251   \n",
       "370918      294682                          Hotel JL No76  52.359592   \n",
       "299736      693863                  Hilton London Wembley  51.557696   \n",
       "533119       72825                      NH Milano Touring  45.476917   \n",
       "361962      250779                 Hotel Erzherzog Rainer  48.195323   \n",
       "326574      464823    Holiday Inn Paris Gare Montparnasse  48.838292   \n",
       "767634      620126                  The Royal Horseguards  51.505418   \n",
       "517005      484191                         Monument Hotel  41.393908   \n",
       "\n",
       "             long  Average_Score  \\\n",
       "240546  -0.071492            8.7   \n",
       "516461   2.290639            8.2   \n",
       "183693  -0.109571            8.6   \n",
       "370918   4.880159            8.8   \n",
       "299736  -0.283526            8.8   \n",
       "533119   9.196665            8.4   \n",
       "361962  16.367288            8.8   \n",
       "326574   2.323019            7.5   \n",
       "767634  -0.124150            8.9   \n",
       "517005   2.162256            9.3   \n",
       "\n",
       "                                                   Review  Polarity  \\\n",
       "240546   Great Value for money attentive staff and ver...         1   \n",
       "516461                   Location offered an upraded room         1   \n",
       "183693   There are both newly remodeled and older room...         0   \n",
       "370918                                        No Negative         0   \n",
       "299736                                        No Positive         1   \n",
       "533119                                        No Negative         0   \n",
       "361962   The fact that owners of the hotel care only a...         0   \n",
       "326574                very friendly and helpful personnel         1   \n",
       "767634   It s located one block off of the main street...         1   \n",
       "517005   Very new and very clean in best location this...         1   \n",
       "\n",
       "        Word_counts                                               Tags  \n",
       "240546           10  [' Leisure trip ', ' Couple ', ' Superior Doub...  \n",
       "516461            6  [' Leisure trip ', ' Family with older childre...  \n",
       "183693           29  [' Leisure trip ', ' Family with young childre...  \n",
       "370918            0  [' Business trip ', ' Solo traveler ', ' Soute...  \n",
       "299736            0  [' Leisure trip ', ' Solo traveler ', ' Queen ...  \n",
       "533119            0  [' Leisure trip ', ' Couple ', ' Standard Doub...  \n",
       "361962           21  [' Business trip ', ' Solo traveler ', ' Speci...  \n",
       "326574            6  [' Leisure trip ', ' Group ', ' Twin Room Non ...  \n",
       "767634          144  [' Leisure trip ', ' Solo traveler ', ' Deluxe...  \n",
       "517005           41  [' Leisure trip ', ' Couple ', ' Junior Suite ...  "
      ]
     },
     "execution_count": 56,
     "metadata": {},
     "output_type": "execute_result"
    }
   ],
   "source": [
    "review= pd.read_csv(\"/home/jovyan/work/data/dataset_booking_prepared2.csv\", sep=\";\")\n",
    "review= review.sample(frac=1)\n",
    "review.head(10)"
   ]
  },
  {
   "cell_type": "code",
   "execution_count": 31,
   "id": "26d12784",
   "metadata": {},
   "outputs": [],
   "source": [
    "df=spark.createDataFrame(review)"
   ]
  },
  {
   "cell_type": "code",
   "execution_count": 57,
   "id": "36f18471-7995-4b6d-8cee-16a1efcae9a2",
   "metadata": {},
   "outputs": [
    {
     "data": {
      "text/plain": [
       "[('_c0', 'string'),\n",
       " ('Hotel_Name', 'string'),\n",
       " ('lat', 'string'),\n",
       " ('long', 'string'),\n",
       " ('Average_Score', 'string'),\n",
       " ('Review', 'string'),\n",
       " ('Polarity', 'string'),\n",
       " ('Word_counts', 'string'),\n",
       " ('Tags', 'string')]"
      ]
     },
     "execution_count": 57,
     "metadata": {},
     "output_type": "execute_result"
    }
   ],
   "source": [
    "#telechargement des données de trainning\n",
    "train_review = \"/home/jovyan/work/data/dataset_booking_prepared2.csv\"\n",
    "\n",
    "df = spark.read.format('csv').options(header=True).options(delimiter= \";\").load(train_review )\n",
    "df.dtypes"
   ]
  },
  {
   "cell_type": "code",
   "execution_count": 58,
   "id": "941a871f-f114-4ef6-9a1c-2485dd056d56",
   "metadata": {
    "scrolled": true
   },
   "outputs": [
    {
     "name": "stdout",
     "output_type": "stream",
     "text": [
      "+------+--------------------+----------+----------+-------------+--------------------+--------+-----------+--------------------+\n",
      "|   _c0|          Hotel_Name|       lat|      long|Average_Score|              Review|Polarity|Word_counts|                Tags|\n",
      "+------+--------------------+----------+----------+-------------+--------------------+--------+-----------+--------------------+\n",
      "| 65662|Inntel Hotels Ams...|52.3760456| 4.8943917|          8.2| A little bit out...|       0|         26|[' Leisure trip '...|\n",
      "|165497|Britannia Interna...|51.5019097|-0.0232208|          7.1| Staff was very r...|       0|         29|[' Leisure trip '...|\n",
      "|206208|Hilton London Ang...|51.5360906|-0.1048176|          8.6| Everything was 1...|       0|          5|[' Leisure trip '...|\n",
      "|547521|Copthorne Tara Ho...| 51.499046|-0.1917073|          8.1| Clean room with ...|       1|         17|[' Leisure trip '...|\n",
      "|308582|Club Quarters Hot...| 51.506935| -0.126012|          8.5| Breakfast was ex...|       0|         30|[' Leisure trip '...|\n",
      "+------+--------------------+----------+----------+-------------+--------------------+--------+-----------+--------------------+\n",
      "only showing top 5 rows\n",
      "\n"
     ]
    }
   ],
   "source": [
    "df.show(5)"
   ]
  },
  {
   "cell_type": "code",
   "execution_count": 59,
   "id": "57bb2c93",
   "metadata": {},
   "outputs": [
    {
     "data": {
      "text/plain": [
       "pyspark.sql.dataframe.DataFrame"
      ]
     },
     "execution_count": 59,
     "metadata": {},
     "output_type": "execute_result"
    }
   ],
   "source": [
    "#type(df)"
   ]
  },
  {
   "cell_type": "code",
   "execution_count": 62,
   "id": "c1f39d19-ac5d-4012-aa6c-22210be2759a",
   "metadata": {},
   "outputs": [
    {
     "data": {
      "text/plain": [
       "[('c0', 'int'),\n",
       " ('hotel_name', 'string'),\n",
       " ('lat', 'float'),\n",
       " ('long', 'float'),\n",
       " ('average_score', 'float'),\n",
       " ('review', 'string'),\n",
       " ('polarity', 'int'),\n",
       " ('word_counts', 'int'),\n",
       " ('tags', 'string')]"
      ]
     },
     "execution_count": 62,
     "metadata": {},
     "output_type": "execute_result"
    }
   ],
   "source": [
    "\n",
    "\n",
    "#telechargement des données de trainning\n",
    "train_review = \"/home/jovyan/work/data/dataset_booking_prepared2.csv\"\n",
    "\n",
    "# lecture d'un fichier de manière la plus brute\n",
    "schema = StructType([\n",
    "    StructField('c0', IntegerType(),True),\n",
    "    StructField('hotel_name', StringType(),True),\n",
    "    StructField('lat', FloatType(),True),\n",
    "    StructField('long', FloatType(),True),\n",
    "    StructField('average_score', FloatType(),True),\n",
    "    StructField('review', StringType(),True),\n",
    "    StructField('polarity', IntegerType(),True),\n",
    "    StructField('word_counts', IntegerType(),True),\n",
    "    StructField('tags', StringType(),True),\n",
    "])\n",
    "\n",
    "df = spark.read.format('csv').options(header=True).options(delimiter= \";\").schema(schema).load(train_review )\n",
    "df.dtypes"
   ]
  },
  {
   "cell_type": "code",
   "execution_count": 63,
   "id": "5959e5f9-828c-4ce8-91b2-4dd60bbc0fbb",
   "metadata": {},
   "outputs": [
    {
     "name": "stdout",
     "output_type": "stream",
     "text": [
      "+------+--------------------+---------+----------+-------------+--------------------+--------+-----------+--------------------+\n",
      "|    c0|          hotel_name|      lat|      long|average_score|              review|polarity|word_counts|                tags|\n",
      "+------+--------------------+---------+----------+-------------+--------------------+--------+-----------+--------------------+\n",
      "| 65662|Inntel Hotels Ams...|52.376045| 4.8943915|          8.2| A little bit out...|       0|         26|[' Leisure trip '...|\n",
      "|165497|Britannia Interna...| 51.50191|-0.0232208|          7.1| Staff was very r...|       0|         29|[' Leisure trip '...|\n",
      "|206208|Hilton London Ang...| 51.53609|-0.1048176|          8.6| Everything was 1...|       0|          5|[' Leisure trip '...|\n",
      "|547521|Copthorne Tara Ho...|51.499046|-0.1917073|          8.1| Clean room with ...|       1|         17|[' Leisure trip '...|\n",
      "|308582|Club Quarters Hot...|51.506935| -0.126012|          8.5| Breakfast was ex...|       0|         30|[' Leisure trip '...|\n",
      "+------+--------------------+---------+----------+-------------+--------------------+--------+-----------+--------------------+\n",
      "only showing top 5 rows\n",
      "\n"
     ]
    }
   ],
   "source": [
    "df.show(5)"
   ]
  },
  {
   "cell_type": "code",
   "execution_count": 64,
   "id": "09c8a6dd-3e13-49ff-98aa-ef9795878cbf",
   "metadata": {},
   "outputs": [
    {
     "data": {
      "text/plain": [
       "0"
      ]
     },
     "execution_count": 64,
     "metadata": {},
     "output_type": "execute_result"
    }
   ],
   "source": [
    "df= df.dropna(how=\"any\")\n",
    "df.filter(df.polarity.isNull()).count()"
   ]
  },
  {
   "cell_type": "code",
   "execution_count": 37,
   "id": "81987c68",
   "metadata": {},
   "outputs": [
    {
     "data": {
      "text/plain": [
       "pyspark.sql.dataframe.DataFrame"
      ]
     },
     "execution_count": 37,
     "metadata": {},
     "output_type": "execute_result"
    }
   ],
   "source": [
    "type(df)"
   ]
  },
  {
   "cell_type": "code",
   "execution_count": 38,
   "id": "3227a0cb-3147-4e95-a7cb-d125916cc4ba",
   "metadata": {
    "tags": []
   },
   "outputs": [],
   "source": [
    "#pip install sparknlp"
   ]
  },
  {
   "cell_type": "code",
   "execution_count": 39,
   "id": "f8136907-fc57-4f86-8dbf-b15cf9d401c2",
   "metadata": {
    "tags": []
   },
   "outputs": [],
   "source": [
    "#pip install nltk"
   ]
  },
  {
   "cell_type": "code",
   "execution_count": 65,
   "id": "d56688e3-d121-4a31-b544-d376f1961743",
   "metadata": {
    "tags": []
   },
   "outputs": [
    {
     "name": "stderr",
     "output_type": "stream",
     "text": [
      "[nltk_data] Downloading package stopwords to /home/jovyan/nltk_data...\n",
      "[nltk_data]   Package stopwords is already up-to-date!\n"
     ]
    },
    {
     "data": {
      "text/plain": [
       "True"
      ]
     },
     "execution_count": 65,
     "metadata": {},
     "output_type": "execute_result"
    }
   ],
   "source": [
    "#from sparknlp.base import Finisher, DocumentAssembler\n",
    "#from sparknlp.annotator import (Tokenizer, Normalizer,\n",
    " #                               LemmatizerModel, StopWordsCleaner)\n",
    "#from pyspark.ml import Pipeline\n",
    "#from pyspark.ml.feature import Tokenizer, NGram, HashingTF, IDF\n",
    "\n",
    "import nltk\n",
    "from nltk.corpus import stopwords\n",
    "\n",
    "\n",
    "nltk.download('stopwords')"
   ]
  },
  {
   "cell_type": "markdown",
   "id": "b0fef202-fb7a-49ea-a752-55a67d3e4b83",
   "metadata": {},
   "source": [
    "# Pipeline"
   ]
  },
  {
   "cell_type": "code",
   "execution_count": 66,
   "id": "0085a923-b89a-49ed-bfcc-709c60a7a828",
   "metadata": {},
   "outputs": [],
   "source": [
    "# Tokenize text\n",
    "tokenizer = Tokenizer(inputCol='review', outputCol='words_token')\n",
    "\n",
    "#StopWord\n",
    "stopwordList = nltk.corpus.stopwords.words('english')\n",
    "remover = StopWordsRemover(inputCol='words_token', outputCol='words_clean', stopWords=stopwordList )\n",
    "\n",
    "#Ngram\n",
    "bigram = NGram(n=2, inputCol=\"words_clean\", outputCol=\"bigrams\")\n",
    "\n",
    "#HashingTF\n",
    "hashingTF = HashingTF(inputCol=\"bigrams\", outputCol=\"rawFeatures\", numFeatures=100000)\n",
    "\n",
    "#IDF\n",
    "idf = IDF(inputCol=\"rawFeatures\", outputCol=\"features\")\n"
   ]
  },
  {
   "cell_type": "code",
   "execution_count": 67,
   "id": "9df7aac1-cc64-4e49-b3aa-b27d71211ba0",
   "metadata": {},
   "outputs": [],
   "source": [
    "from pyspark.ml import Pipeline\n",
    "\n",
    "pipeline = Pipeline() \\\n",
    "     .setStages([\n",
    "           tokenizer,\n",
    "           remover,\n",
    "           bigram,\n",
    "           hashingTF,\n",
    "           idf\n",
    "     ])"
   ]
  },
  {
   "cell_type": "code",
   "execution_count": 68,
   "id": "7e91b806-aaf6-4ac2-b795-1b5817f53f12",
   "metadata": {},
   "outputs": [
    {
     "name": "stdout",
     "output_type": "stream",
     "text": [
      "+------+--------------------+---------+----------+-------------+--------------------+--------+-----------+--------------------+--------------------+--------------------+--------------------+--------------------+--------------------+\n",
      "|    c0|          hotel_name|      lat|      long|average_score|              review|polarity|word_counts|                tags|         words_token|         words_clean|             bigrams|         rawFeatures|            features|\n",
      "+------+--------------------+---------+----------+-------------+--------------------+--------+-----------+--------------------+--------------------+--------------------+--------------------+--------------------+--------------------+\n",
      "| 65662|Inntel Hotels Ams...|52.376045| 4.8943915|          8.2| A little bit out...|       0|         26|[' Leisure trip '...|[, a, little, bit...|[, little, bit, w...|[ little, little ...|(100000,[7693,100...|(100000,[7693,100...|\n",
      "|165497|Britannia Interna...| 51.50191|-0.0232208|          7.1| Staff was very r...|       0|         29|[' Leisure trip '...|[, staff, was, ve...|[, staff, rude, m...|[ staff, staff ru...|(100000,[1354,398...|(100000,[1354,398...|\n",
      "|206208|Hilton London Ang...| 51.53609|-0.1048176|          8.6| Everything was 1...|       0|          5|[' Leisure trip '...|[, everything, wa...|[, everything, 1s...|[ everything, eve...|(100000,[58038,78...|(100000,[58038,78...|\n",
      "|547521|Copthorne Tara Ho...|51.499046|-0.1917073|          8.1| Clean room with ...|       1|         17|[' Leisure trip '...|[, clean, room, w...|[, clean, room, c...|[ clean, clean ro...|(100000,[13082,26...|(100000,[13082,26...|\n",
      "|308582|Club Quarters Hot...|51.506935| -0.126012|          8.5| Breakfast was ex...|       0|         30|[' Leisure trip '...|[, breakfast, was...|[, breakfast, exp...|[ breakfast, brea...|(100000,[4219,435...|(100000,[4219,435...|\n",
      "|709106|The Grand at Traf...|51.506935| -0.126012|          8.3| Location of the ...|       1|         16|[' Leisure trip '...|[, location, of, ...|[, location, hote...|[ location, locat...|(100000,[4625,130...|(100000,[4625,130...|\n",
      "|302509|Hotel Pulitzer Paris|  48.8732| 2.3425446|          8.4| Rooms are really...|       0|         17|[' Business trip ...|[, rooms, are, re...|[, rooms, really,...|[ rooms, rooms re...|(100000,[161,1200...|(100000,[161,1200...|\n",
      "|580905|Royal Amsterdam H...|52.365726| 4.8972883|          7.4| The location is ...|       1|         15|[' Leisure trip '...|[, the, location,...|[, location, cent...|[ location, locat...|(100000,[29842,38...|(100000,[29842,38...|\n",
      "|452378| The Nadler Victoria|51.499027|-0.1427453|          9.3|         No Positive|       0|          0|[' Leisure trip '...|      [no, positive]|          [positive]|                  []|      (100000,[],[])|      (100000,[],[])|\n",
      "| 52242|      Hotel Esther a|52.370544| 4.8886437|          9.1| Our bedroom was ...|       0|         25|[' Leisure trip '...|[, our, bedroom, ...|[, bedroom, small...|[ bedroom, bedroo...|(100000,[622,6488...|(100000,[622,6488...|\n",
      "+------+--------------------+---------+----------+-------------+--------------------+--------+-----------+--------------------+--------------------+--------------------+--------------------+--------------------+--------------------+\n",
      "only showing top 10 rows\n",
      "\n"
     ]
    }
   ],
   "source": [
    "# test\n",
    "df_prepared= pipeline.fit(df).transform(df)\n",
    "df_prepared.show(10)"
   ]
  },
  {
   "cell_type": "markdown",
   "id": "8f5832e1-34ae-4f48-b507-ee0c820bd2e0",
   "metadata": {},
   "source": [
    "## Separation du test et du train"
   ]
  },
  {
   "cell_type": "code",
   "execution_count": 69,
   "id": "13686b13-abd7-4653-b0c0-829cf341193c",
   "metadata": {
    "tags": []
   },
   "outputs": [],
   "source": [
    "split= df_prepared.randomSplit([0.7,0.3],100)"
   ]
  },
  {
   "cell_type": "code",
   "execution_count": 70,
   "id": "26476c68-59f4-4729-9735-ab3164261371",
   "metadata": {},
   "outputs": [
    {
     "data": {
      "text/plain": [
       "522889"
      ]
     },
     "execution_count": 70,
     "metadata": {},
     "output_type": "execute_result"
    }
   ],
   "source": [
    "train= split[0]\n",
    "train.count()"
   ]
  },
  {
   "cell_type": "code",
   "execution_count": 71,
   "id": "c7fa12c2-5742-40e3-89aa-77bd848671b3",
   "metadata": {},
   "outputs": [
    {
     "data": {
      "text/plain": [
       "223511"
      ]
     },
     "execution_count": 71,
     "metadata": {},
     "output_type": "execute_result"
    }
   ],
   "source": [
    "test=split[1]\n",
    "test.count()"
   ]
  },
  {
   "cell_type": "markdown",
   "id": "0cd3635d-bc4d-4ca9-bc59-f88d2bc3df95",
   "metadata": {},
   "source": [
    "# Model LR"
   ]
  },
  {
   "cell_type": "code",
   "execution_count": 72,
   "id": "e8c2d6fe-6f3d-476a-9e16-6fd30d9ab118",
   "metadata": {
    "tags": []
   },
   "outputs": [],
   "source": [
    "from pyspark.ml.classification import LogisticRegression\n",
    "\n",
    "lr = LogisticRegression(featuresCol = 'features', labelCol = 'polarity', maxIter=10)\n",
    "lrModel = lr.fit(train)\n",
    "\n",
    "#print('Coefficient:' + str(lrModel.coefficients))\n",
    "#print('Intercept:' + str(lrModel.intercept))"
   ]
  },
  {
   "cell_type": "code",
   "execution_count": 48,
   "id": "b9ec11c9-285d-4012-8c11-e0b8115721e4",
   "metadata": {},
   "outputs": [
    {
     "name": "stdout",
     "output_type": "stream",
     "text": [
      "LogisticRegressionModel: uid=LogisticRegression_412ed1d9d5a9, numClasses=2, numFeatures=100000\n"
     ]
    }
   ],
   "source": [
    "print(lrModel)"
   ]
  },
  {
   "cell_type": "code",
   "execution_count": 73,
   "id": "57ec5b12-6b9e-474f-9683-fd573d18c1dc",
   "metadata": {},
   "outputs": [],
   "source": [
    "lrPreds= lrModel.transform(test)"
   ]
  },
  {
   "cell_type": "code",
   "execution_count": 74,
   "id": "478ee139-22d7-4450-a697-48d17fe884d7",
   "metadata": {},
   "outputs": [
    {
     "name": "stdout",
     "output_type": "stream",
     "text": [
      "+--------------------+--------+----------+\n",
      "|          hotel_name|polarity|prediction|\n",
      "+--------------------+--------+----------+\n",
      "|   Element Amsterdam|       0|       0.0|\n",
      "|   Good Hotel London|       0|       0.0|\n",
      "|Park Plaza London...|       0|       0.0|\n",
      "|AC Hotel Sants a ...|       0|       1.0|\n",
      "|Best Western Prem...|       0|       0.0|\n",
      "|Eurostars Grand M...|       0|       0.0|\n",
      "|Hilton London Met...|       0|       0.0|\n",
      "|     Mondrian London|       0|       0.0|\n",
      "|Novotel Paris Cen...|       0|       0.0|\n",
      "|M by Montcalm Sho...|       0|       0.0|\n",
      "|Holiday Inn Paris...|       0|       0.0|\n",
      "|     Commodore Hotel|       0|       0.0|\n",
      "|Catalonia Diagona...|       0|       0.0|\n",
      "|Eurostars Monumental|       0|       0.0|\n",
      "|Shaftesbury Hyde ...|       0|       0.0|\n",
      "|Suite Hotel 900 m...|       0|       0.0|\n",
      "|Park Plaza London...|       0|       0.0|\n",
      "|Hilton London Ban...|       0|       0.0|\n",
      "|Rochester Champs ...|       0|       0.0|\n",
      "|Hilton Vienna Dan...|       0|       0.0|\n",
      "+--------------------+--------+----------+\n",
      "only showing top 20 rows\n",
      "\n"
     ]
    }
   ],
   "source": [
    "lrPreds.select('hotel_name','polarity','prediction').show()"
   ]
  },
  {
   "cell_type": "code",
   "execution_count": 75,
   "id": "4aead84c-17c6-4a95-bf83-ccdcc890f4b0",
   "metadata": {},
   "outputs": [
    {
     "data": {
      "text/plain": [
       "0.8554703565139703"
      ]
     },
     "execution_count": 75,
     "metadata": {},
     "output_type": "execute_result"
    }
   ],
   "source": [
    "from pyspark.ml.evaluation import BinaryClassificationEvaluator\n",
    "\n",
    "my_eval_lr = BinaryClassificationEvaluator(rawPredictionCol='prediction', labelCol='polarity', metricName='areaUnderROC')\n",
    "my_eval_lr.evaluate(lrPreds)"
   ]
  },
  {
   "cell_type": "markdown",
   "id": "ea14ada2-2e9b-4648-a599-8f85cd5cd7e5",
   "metadata": {},
   "source": [
    "# Sauvegarde des modèles"
   ]
  },
  {
   "cell_type": "code",
   "execution_count": 42,
   "id": "3a7c8dff-4bd6-4d54-910d-24d0b1c4b18c",
   "metadata": {
    "tags": []
   },
   "outputs": [],
   "source": [
    "# Save and load model\n",
    "lrModel.save(\"mylrModel\")\n"
   ]
  },
  {
   "cell_type": "code",
   "execution_count": 20,
   "id": "623354b3-bc9a-483a-8b06-d86182c95890",
   "metadata": {},
   "outputs": [],
   "source": [
    "# Save and load Pipeline\n",
    "pipeline.save(\"path\")"
   ]
  },
  {
   "cell_type": "code",
   "execution_count": null,
   "id": "1f290813-17fa-497b-b8b7-b37ba81e3e12",
   "metadata": {},
   "outputs": [],
   "source": []
  },
  {
   "cell_type": "code",
   "execution_count": null,
   "id": "d17e4734-0321-475a-a0ca-52e42d37e147",
   "metadata": {},
   "outputs": [],
   "source": []
  },
  {
   "cell_type": "code",
   "execution_count": null,
   "id": "145b645b-3e0a-42fa-91a7-10bc9c2566f6",
   "metadata": {},
   "outputs": [],
   "source": []
  },
  {
   "cell_type": "code",
   "execution_count": null,
   "id": "0f69f1f8-ef68-40cc-b65b-0605b3e9f15d",
   "metadata": {},
   "outputs": [],
   "source": []
  },
  {
   "cell_type": "code",
   "execution_count": null,
   "id": "bf736606-777a-48c5-9ab6-34358e2999d1",
   "metadata": {},
   "outputs": [],
   "source": []
  },
  {
   "cell_type": "code",
   "execution_count": null,
   "id": "4cc9443b-6e07-4afc-b0cc-8c0aa68e7ae8",
   "metadata": {},
   "outputs": [],
   "source": []
  }
 ],
 "metadata": {
  "kernelspec": {
   "display_name": "Python 3",
   "language": "python",
   "name": "python3"
  },
  "language_info": {
   "codemirror_mode": {
    "name": "ipython",
    "version": 3
   },
   "file_extension": ".py",
   "mimetype": "text/x-python",
   "name": "python",
   "nbconvert_exporter": "python",
   "pygments_lexer": "ipython3",
   "version": "3.8.8"
  },
  "toc-autonumbering": true,
  "toc-showmarkdowntxt": true,
  "toc-showtags": false
 },
 "nbformat": 4,
 "nbformat_minor": 5
}
